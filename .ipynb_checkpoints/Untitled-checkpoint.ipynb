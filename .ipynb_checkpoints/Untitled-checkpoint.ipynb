{
 "cells": [
  {
   "cell_type": "code",
   "execution_count": 108,
   "metadata": {},
   "outputs": [
    {
     "ename": "IndexError",
     "evalue": "list index out of range",
     "output_type": "error",
     "traceback": [
      "\u001b[0;31m---------------------------------------------------------------------------\u001b[0m",
      "\u001b[0;31mIndexError\u001b[0m                                Traceback (most recent call last)",
      "\u001b[0;32m<ipython-input-108-49ea9aab2b58>\u001b[0m in \u001b[0;36m<module>\u001b[0;34m\u001b[0m\n\u001b[1;32m     21\u001b[0m         \u001b[0;32mif\u001b[0m \u001b[0mcrawl\u001b[0m\u001b[0;34m:\u001b[0m\u001b[0;34m\u001b[0m\u001b[0;34m\u001b[0m\u001b[0m\n\u001b[1;32m     22\u001b[0m             \u001b[0mcurrent_tags\u001b[0m \u001b[0;34m=\u001b[0m \u001b[0mline\u001b[0m\u001b[0;34m.\u001b[0m\u001b[0mstrip\u001b[0m\u001b[0;34m(\u001b[0m\u001b[0;34m)\u001b[0m\u001b[0;34m.\u001b[0m\u001b[0msplit\u001b[0m\u001b[0;34m(\u001b[0m\u001b[0;34m)\u001b[0m\u001b[0;34m\u001b[0m\u001b[0;34m\u001b[0m\u001b[0m\n\u001b[0;32m---> 23\u001b[0;31m             \u001b[0;32mif\u001b[0m \u001b[0mcurrent_tags\u001b[0m\u001b[0;34m[\u001b[0m\u001b[0;36m0\u001b[0m\u001b[0;34m]\u001b[0m \u001b[0;34m==\u001b[0m \u001b[0;34m'tags:'\u001b[0m\u001b[0;34m:\u001b[0m\u001b[0;34m\u001b[0m\u001b[0;34m\u001b[0m\u001b[0m\n\u001b[0m\u001b[1;32m     24\u001b[0m                 \u001b[0mtotal_tags\u001b[0m\u001b[0;34m.\u001b[0m\u001b[0mextend\u001b[0m\u001b[0;34m(\u001b[0m\u001b[0mcurrent_tags\u001b[0m\u001b[0;34m[\u001b[0m\u001b[0;36m1\u001b[0m\u001b[0;34m:\u001b[0m\u001b[0;34m]\u001b[0m\u001b[0;34m)\u001b[0m\u001b[0;34m\u001b[0m\u001b[0;34m\u001b[0m\u001b[0m\n\u001b[1;32m     25\u001b[0m                 \u001b[0mcrawl\u001b[0m \u001b[0;34m=\u001b[0m \u001b[0;32mFalse\u001b[0m\u001b[0;34m\u001b[0m\u001b[0;34m\u001b[0m\u001b[0m\n",
      "\u001b[0;31mIndexError\u001b[0m: list index out of range"
     ]
    }
   ],
   "source": [
    "#!/usr/bin/env python\n",
    "\n",
    "'''\n",
    "tag_generator-v1\n",
    "Adaptação: Joao Oliveira\n",
    "'''\n",
    "\n",
    "import glob\n",
    "import os\n",
    "\n",
    "post_dir = '_posts/'\n",
    "tag_dir  = 'tag/'\n",
    "\n",
    "filenames = glob.glob(post_dir + '*md')\n",
    "\n",
    "total_tags = []\n",
    "for filename in filenames:\n",
    "    f = open(filename, 'r', encoding='utf-8')\n",
    "    crawl = False\n",
    "    for line in f:\n",
    "        if crawl:\n",
    "            current_tags = line.strip().split()\n",
    "            if current_tags[0] == 'tags:':\n",
    "                total_tags.extend(current_tags[1:])\n",
    "                crawl = False\n",
    "                break\n",
    "        if line.strip() == '---':\n",
    "            if not crawl:\n",
    "                crawl = True\n",
    "            else:\n",
    "                crawl = False\n",
    "                break\n",
    "    f.close()\n",
    "    \n",
    "total_tags = set(total_tags)\n",
    "\n",
    "old_tags = glob.glob(tag_dir + '*.md')\n",
    "for tag in old_tags:\n",
    "    os.remove(tag)\n",
    "    \n",
    "if not os.path.exists(tag_dir):\n",
    "    os.makedirs(tag_dir)\n",
    "\n",
    "for tag in total_tags:\n",
    "    tag_filename = tag_dir + tag + '.md'\n",
    "    f = open(tag_filename, 'a')\n",
    "    write_str = '---\\nlayout: tagpage\\ntitle: \\\"Tag: ' + tag + '\\\"\\ntag: ' + tag + '\\nrobots: noindex\\n---\\n'\n",
    "    f.write(write_str)\n",
    "    f.close()\n",
    "    \n",
    "print(\"Tags generated, count\", total_tags.__len__())"
   ]
  },
  {
   "cell_type": "code",
   "execution_count": 109,
   "metadata": {},
   "outputs": [
    {
     "name": "stdout",
     "output_type": "stream",
     "text": [
      "tags:\n",
      "Erro besta\n",
      "image:\n",
      "path:\n",
      "height:\n",
      "width:\n",
      "thumb:\n",
      "path:\n",
      "height:\n",
      "width:\n",
      "---\n",
      "You’ll\n",
      "Erro besta\n",
      "Jekyll\n",
      "Erro besta\n",
      "`YEAR-MONTH-DAY-title.MARKUP`\n",
      "Erro besta\n",
      "Where\n",
      "Erro besta\n",
      "Jekyll\n",
      "Erro besta\n",
      "{%\n",
      "def\n",
      "puts\n",
      "end\n",
      "print_hi('Tom')\n",
      "#=>\n",
      "{%\n",
      "Erro besta\n",
      "Check\n",
      "Erro besta\n",
      "[jekyll-docs]:\n",
      "[jekyll-gh]:\n",
      "[jekyll-talk]:\n"
     ]
    }
   ],
   "source": [
    "for line in f:\n",
    "    current_tags = line.strip().split()\n",
    "    try:\n",
    "        print (current_tags[0])\n",
    "    except:\n",
    "        print(\"Erro besta\")"
   ]
  },
  {
   "cell_type": "code",
   "execution_count": null,
   "metadata": {},
   "outputs": [],
   "source": []
  },
  {
   "cell_type": "code",
   "execution_count": null,
   "metadata": {},
   "outputs": [],
   "source": []
  },
  {
   "cell_type": "code",
   "execution_count": null,
   "metadata": {},
   "outputs": [],
   "source": []
  },
  {
   "cell_type": "code",
   "execution_count": null,
   "metadata": {},
   "outputs": [],
   "source": []
  }
 ],
 "metadata": {
  "kernelspec": {
   "display_name": "Python 3",
   "language": "python",
   "name": "python3"
  },
  "language_info": {
   "codemirror_mode": {
    "name": "ipython",
    "version": 3
   },
   "file_extension": ".py",
   "mimetype": "text/x-python",
   "name": "python",
   "nbconvert_exporter": "python",
   "pygments_lexer": "ipython3",
   "version": "3.7.4"
  }
 },
 "nbformat": 4,
 "nbformat_minor": 4
}
